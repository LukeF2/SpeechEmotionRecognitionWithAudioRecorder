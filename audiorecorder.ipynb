{
 "cells": [
  {
   "cell_type": "code",
   "execution_count": 2,
   "metadata": {},
   "outputs": [
    {
     "name": "stdout",
     "output_type": "stream",
     "text": [
      "Input Device id 0 - lukes xm5 supports 1 input channels\n",
      "Input Device id 2 - MacBook Pro Microphone supports 1 input channels\n"
     ]
    }
   ],
   "source": [
    "import pyaudio\n",
    "\n",
    "p = pyaudio.PyAudio()\n",
    "\n",
    "info = p.get_host_api_info_by_index(0)\n",
    "num_devices = info.get('deviceCount')\n",
    "\n",
    "for i in range(0, num_devices):\n",
    "    device_info = p.get_device_info_by_host_api_device_index(0, i)\n",
    "    if device_info.get('maxInputChannels') > 0:\n",
    "        print(f\"Input Device id {i} - {device_info.get('name')} supports {device_info.get('maxInputChannels')} input channels\")\n",
    "\n",
    "p.terminate()"
   ]
  },
  {
   "cell_type": "code",
   "execution_count": 6,
   "metadata": {},
   "outputs": [
    {
     "name": "stdout",
     "output_type": "stream",
     "text": [
      "* recording\n",
      "* done recording\n"
     ]
    }
   ],
   "source": [
    "import pyaudio\n",
    "import wave\n",
    "import os\n",
    "\n",
    "CHUNK = 1024 \n",
    "FORMAT = pyaudio.paInt16\n",
    "CHANNELS = 1 \n",
    "RATE = 44100\n",
    "RECORD_SECONDS = 4\n",
    "BASE_FILENAME = \"output\"\n",
    "file_number = 0\n",
    "\n",
    "# Define the path to the \"ownsounds\" folder\n",
    "folder_path = \"/Users/lukefeng/Documents/EmotionRecognition/ownsounds\"\n",
    "\n",
    "while True:\n",
    "    WAVE_OUTPUT_FILENAME = f\"{folder_path}/{BASE_FILENAME}{file_number}.wav\"\n",
    "    if not os.path.exists(WAVE_OUTPUT_FILENAME):\n",
    "        break\n",
    "    file_number += 1\n",
    "\n",
    "os.makedirs(os.path.dirname(WAVE_OUTPUT_FILENAME), exist_ok=True)\n",
    "\n",
    "p = pyaudio.PyAudio()\n",
    "\n",
    "stream = p.open(format=FORMAT,\n",
    "                channels=CHANNELS,\n",
    "                rate=RATE,\n",
    "                input=True,\n",
    "                frames_per_buffer=CHUNK)\n",
    "\n",
    "print(\"* recording\")\n",
    "\n",
    "frames = []\n",
    "\n",
    "for i in range(0, int(RATE / CHUNK * RECORD_SECONDS)):\n",
    "    data = stream.read(CHUNK)\n",
    "    frames.append(data)\n",
    "\n",
    "print(\"* done recording\")\n",
    "\n",
    "stream.stop_stream()\n",
    "stream.close()\n",
    "p.terminate()\n",
    "\n",
    "wf = wave.open(WAVE_OUTPUT_FILENAME, 'wb')\n",
    "wf.setnchannels(CHANNELS)\n",
    "wf.setsampwidth(p.get_sample_size(FORMAT))\n",
    "wf.setframerate(RATE)\n",
    "wf.writeframes(b''.join(frames))\n",
    "wf.close()\n",
    "\n"
   ]
  }
 ],
 "metadata": {
  "kernelspec": {
   "display_name": "base",
   "language": "python",
   "name": "python3"
  },
  "language_info": {
   "codemirror_mode": {
    "name": "ipython",
    "version": 3
   },
   "file_extension": ".py",
   "mimetype": "text/x-python",
   "name": "python",
   "nbconvert_exporter": "python",
   "pygments_lexer": "ipython3",
   "version": "3.11.4"
  },
  "orig_nbformat": 4
 },
 "nbformat": 4,
 "nbformat_minor": 2
}
